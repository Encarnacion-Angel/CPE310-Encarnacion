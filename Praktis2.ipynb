{
  "nbformat": 4,
  "nbformat_minor": 0,
  "metadata": {
    "colab": {
      "provenance": [],
      "authorship_tag": "ABX9TyM/4/sQGRJWSAhbdztxTf1X",
      "include_colab_link": true
    },
    "kernelspec": {
      "name": "python3",
      "display_name": "Python 3"
    },
    "language_info": {
      "name": "python"
    }
  },
  "cells": [
    {
      "cell_type": "markdown",
      "metadata": {
        "id": "view-in-github",
        "colab_type": "text"
      },
      "source": [
        "<a href=\"https://colab.research.google.com/github/Encarnacion-Angel/Encarnacion-Angel/blob/main/Praktis2.ipynb\" target=\"_parent\"><img src=\"https://colab.research.google.com/assets/colab-badge.svg\" alt=\"Open In Colab\"/></a>"
      ]
    },
    {
      "cell_type": "code",
      "execution_count": null,
      "metadata": {
        "id": "w1NLatArrKFR"
      },
      "outputs": [],
      "source": [
        "a=10\n",
        "b=5"
      ]
    },
    {
      "cell_type": "code",
      "source": [
        "if a>b:\n",
        "   print(f\"{a}is greater than {b}.\")\n",
        "elif b>a:\n",
        "  print (f\"{b}is greater than {a}.\")\n",
        "else:\n",
        "  print(f\"{a}is not less than or greater than {b}.\")"
      ],
      "metadata": {
        "colab": {
          "base_uri": "https://localhost:8080/"
        },
        "id": "1j9MeQXrrOIh",
        "outputId": "71b95452-fccb-47b0-b938-9d5e1ad87e4d"
      },
      "execution_count": null,
      "outputs": [
        {
          "output_type": "stream",
          "name": "stdout",
          "text": [
            "10is greater than 5.\n"
          ]
        }
      ]
    },
    {
      "cell_type": "code",
      "source": [
        "a=int(input(\"A:\"))\n",
        "b=int(input(\"B:\"))\n",
        "c=int(input(\"C:\"))\n",
        "\n",
        "if a>b and a>c:\n",
        "    print (f\"A({a}) is the largest value.\")\n",
        "elif b>a and b>c:\n",
        "    print (f\"B({b}) is the largest value.\")"
      ],
      "metadata": {
        "id": "Q4Iw85wUr2tJ"
      },
      "execution_count": null,
      "outputs": []
    },
    {
      "cell_type": "code",
      "source": [
        "A:\n",
        "B:\n",
        "C:\n",
        "A (5) is the largest value."
      ],
      "metadata": {
        "id": "W6HHkkDTskjI"
      },
      "execution_count": null,
      "outputs": []
    },
    {
      "cell_type": "code",
      "source": [
        "students = [\"Angel\",\"Angel\", \"Angel\"]\n",
        "print(len(students))\n",
        "\n",
        "#break the loop:will only print\"Angel\"\n",
        "for i in range(len(students)):\n",
        "  if students[i] == \"Angel\":\n",
        "    break\n",
        "    print(students[i])\n",
        "\n",
        "#continue the loop:will not print \"Angel\"\n",
        "for i in range(len(students)):\n",
        "  if students[i] == \"Angel\":\n",
        "    continue\n",
        "    print(students[i])"
      ],
      "metadata": {
        "colab": {
          "base_uri": "https://localhost:8080/"
        },
        "id": "VDZTIfRhvlJ4",
        "outputId": "94ac1f15-ba41-424e-d750-47a8e8f050c5"
      },
      "execution_count": null,
      "outputs": [
        {
          "output_type": "stream",
          "name": "stdout",
          "text": [
            "3\n"
          ]
        }
      ]
    },
    {
      "cell_type": "code",
      "source": [
        "students = [\"Angel\", \"Ang\",\"Gel\"]\n",
        "print(len(students))\n",
        "\n",
        "#will only print \"Angel\"\n",
        "for i in range(len(students)):\n",
        "  if students[i] == \"Gel\":\n",
        "    break\n",
        "    print(students[i])\n",
        "\n",
        "#will not print \"Angel\"\n",
        "for i in range(len(students)):\n",
        "  if students[i] == \"Gel\":\n",
        "    continue\n",
        "    print(student[i])"
      ],
      "metadata": {
        "colab": {
          "base_uri": "https://localhost:8080/"
        },
        "id": "9tTgTH_dy7II",
        "outputId": "07c6f9b1-c4b4-4aa2-a312-f15e39aec764"
      },
      "execution_count": null,
      "outputs": [
        {
          "output_type": "stream",
          "name": "stdout",
          "text": [
            "3\n"
          ]
        }
      ]
    },
    {
      "cell_type": "code",
      "source": [
        "for i in students:\n",
        "  print(i)"
      ],
      "metadata": {
        "colab": {
          "base_uri": "https://localhost:8080/"
        },
        "id": "uaCjsd5xxGMp",
        "outputId": "c6a13ac3-58f9-40e4-b821-efa06efdcc00"
      },
      "execution_count": null,
      "outputs": [
        {
          "output_type": "stream",
          "name": "stdout",
          "text": [
            "Angel\n",
            "Angel\n",
            "Angel\n"
          ]
        }
      ]
    },
    {
      "cell_type": "code",
      "source": [
        "print(list(range(len(students))))"
      ],
      "metadata": {
        "colab": {
          "base_uri": "https://localhost:8080/"
        },
        "id": "9sJV6_B6xOKK",
        "outputId": "e1eb1c6f-18f0-4274-df41-a56d9b4c52f1"
      },
      "execution_count": null,
      "outputs": [
        {
          "output_type": "stream",
          "name": "stdout",
          "text": [
            "[0, 1, 2]\n"
          ]
        }
      ]
    }
  ]
}