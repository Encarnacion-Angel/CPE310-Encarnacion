{
  "nbformat": 4,
  "nbformat_minor": 0,
  "metadata": {
    "colab": {
      "provenance": [],
      "authorship_tag": "ABX9TyNX56W+RdHOYz/+USLZWQ+7",
      "include_colab_link": true
    },
    "kernelspec": {
      "name": "python3",
      "display_name": "Python 3"
    },
    "language_info": {
      "name": "python"
    }
  },
  "cells": [
    {
      "cell_type": "markdown",
      "metadata": {
        "id": "view-in-github",
        "colab_type": "text"
      },
      "source": [
        "<a href=\"https://colab.research.google.com/github/Encarnacion-Angel/Encarnacion-Angel/blob/main/Seatwork_1_1_Python_Fundamentals_(Exercise_1)_.ipynb\" target=\"_parent\"><img src=\"https://colab.research.google.com/assets/colab-badge.svg\" alt=\"Open In Colab\"/></a>"
      ]
    },
    {
      "cell_type": "markdown",
      "source": [
        "Procedures\n",
        "\n",
        "1. Write a Python code that can accomplish the given task.\n",
        "\n",
        "    A teacher wants to calculate the final grade in an engineering course and want to write a python program to make it. The following are the requirements:\n",
        "        PRELIM GRADE = 50% Prelim Exam + 50% Prelim Class Standing (CS)\n",
        "        PRELIM CS = 50% Hands-on activity (HOA) + 30% Quiz + 20% Assignment\n",
        "        MIDTERM GRADE = 1/3 of PRELIM GRADE + 2/3 of (50% Midterm Exam + 50% Midterm Class Standing (CS))\n",
        "        MIDTERM CS = 50% Hands-on activity + 30% Quiz + 20% Assignment\n",
        "        FINAL GRADE = 1/3 of MIDTERM GRADE + 2/3 of (50% Final Exam + 50% Final Class Standing (CS))\n",
        "        FINAL CS = 50% Hands-on activity + 30% Quiz + 20% Assignment\n",
        "        HOAs, Quizzes and Assignments are inputted as average of all submissions and are out of 100%.\n",
        "        Major exams are inputted out of 100%.\n",
        "        Show the codes that successfully run the program.\n",
        "        Provide comments or documentation strings for your program.\n"
      ],
      "metadata": {
        "id": "c0P_tyVixnlC"
      }
    },
    {
      "cell_type": "code",
      "execution_count": null,
      "metadata": {
        "colab": {
          "base_uri": "https://localhost:8080/"
        },
        "id": "uX91zOiawjzv",
        "outputId": "6e066c75-6334-4f6e-e347-1b14b5323266"
      },
      "outputs": [
        {
          "output_type": "stream",
          "name": "stdout",
          "text": [
            "Enter Prelim Scores (out of 100):\n",
            "Prelim Hands-on Activity Average: 64\n",
            "Prelim Quiz Average: 55\n",
            "Prelim Assignment Average: 99\n",
            "Prelim Exam Score: 65\n",
            "\n",
            "Enter Midterm Scores (out of 100):\n",
            "Midterm Hands-on Activity Average: 45\n",
            "Midterm Quiz Average: 45\n",
            "Midterm Assignment Average: 65\n",
            "Midterm Exam Score: 76\n",
            "\n",
            "Enter Final Scores (out of 100):\n",
            "Final Hands-on Activity Average: 24\n",
            "Final Quiz Average: 67\n",
            "Final Assignment Average: 89\n",
            "Final Exam Score: 45\n",
            "\n",
            "Final Grade: 52.93\n"
          ]
        }
      ],
      "source": [
        "def calculate_class_grade(prelim_exam, prelim_class_standing, midterm_exam, midterm_class_standing, final_exam, final_class_standing):\n",
        "    # Prelim Inputs\n",
        "    print(\"Enter Prelim Scores (out of 100):\")\n",
        "    prelim_hoa = float(input(\"Prelim Hands-on Activity Average: \"))\n",
        "    prelim_quiz = float(input(\"Prelim Quiz Average: \"))\n",
        "    prelim_assignment = float(input(\"Prelim Assignment Average: \"))\n",
        "    prelim_exam = float(input(\"Prelim Exam Score: \"))\n",
        "\n",
        "    prelim_cs = calculate_class_standing(prelim_hoa, prelim_quiz, prelim_assignment)\n",
        "    prelim_grade = calculate_grade(prelim_exam, prelim_cs)\n",
        "    # Midterm Inputs\n",
        "    print(\"\\nEnter Midterm Scores (out of 100):\")\n",
        "    midterm_hoa = float(input(\"Midterm Hands-on Activity Average: \"))\n",
        "    midterm_quiz = float(input(\"Midterm Quiz Average: \"))\n",
        "    midterm_assignment = float(input(\"Midterm Assignment Average: \"))\n",
        "    midterm_exam = float(input(\"Midterm Exam Score: \"))\n",
        "\n",
        "    midterm_cs = calculate_class_standing(midterm_hoa, midterm_quiz, midterm_assignment)\n",
        "    midterm_term_grade = calculate_grade(midterm_exam, midterm_cs)\n",
        "    midterm_grade = (1/3 * prelim_grade) + (2/3 * midterm_term_grade)\n",
        "\n",
        "    # Final Inputs\n",
        "    print(\"\\nEnter Final Scores (out of 100):\")\n",
        "    final_hoa = float(input(\"Final Hands-on Activity Average: \"))\n",
        "    final_quiz = float(input(\"Final Quiz Average: \"))\n",
        "    final_assignment = float(input(\"Final Assignment Average: \"))\n",
        "    final_exam = float(input(\"Final Exam Score: \"))\n",
        "\n",
        "    final_cs = calculate_class_standing(final_hoa, final_quiz, final_assignment)\n",
        "    final_grade = calculate_final_grade(prelim_grade, midterm_grade, final_exam, final_cs)\n",
        "\n",
        "    print(\"Final Grade: {:.2f}\".format(final_grade))\n",
        "\n",
        "\n",
        "if __name__ == \"__main__\":\n",
        "    main()"
      ]
    },
    {
      "cell_type": "markdown",
      "source": [
        "2. Supplementary Activity:\n",
        "\n",
        "    Test 3 students (pick yourself and 2 other classmates as sample students)\n",
        "\n",
        "    The program should show the name of the student, the PRELIM, MIDTERM and FINAL grades.\n",
        "\n",
        "    Convert the final grade into the T.I.P.s numerical grade. Please refer to TIP's grading system.\n",
        "\n",
        "    TIP_Grading_System.png"
      ],
      "metadata": {
        "id": "mGXgISRsx77i"
      }
    },
    {
      "cell_type": "code",
      "source": [
        "def get_equivalent_grade(percentage):\n",
        "    grading_scheme = [\n",
        "        (94, 100, 1.00, \"Excellent\"),\n",
        "        (88.5, 93.99, 1.25, \"Superior\"),\n",
        "        (83, 88.49, 1.50, \"Meritorious\"),\n",
        "        (77.5, 82.99, 1.75, \"Very Good\"),\n",
        "        (72, 77.49, 2.00, \"Good\"),\n",
        "        (65.5, 71.99, 2.25, \"Very Satisfactory\"),\n",
        "        (61, 65.49, 2.50, \"Satisfactory\"),\n",
        "        (55.5, 60.99, 2.75, \"Fair\"),\n",
        "        (50, 55.49, 3.00, \"Passing\"),\n",
        "        (0, 49.99, 5.00, \"Failed\")\n",
        "    ]\n",
        "    for min_grade, max_grade, eq_grade, desc in grading_scheme:\n",
        "        if min_grade <= percentage <= max_grade:\n",
        "            return eq_grade, desc\n",
        "    return None, \"Invalid Grade\"\n",
        "\n",
        "students = []\n",
        "\n",
        "for i in range(3):\n",
        "    name = input(f\"Enter student {i+1} name: \")\n",
        "    prelim = float(input(\"Enter PRELIM grade: \"))\n",
        "    midterm = float(input(\"Enter MIDTERM grade: \"))\n",
        "    final = float(input(\"Enter FINAL grade: \"))\n",
        "\n",
        "    final_grade = (prelim + midterm + final) / 3\n",
        "    eq_grade, desc = get_equivalent_grade(final_grade)\n",
        "\n",
        "    students.append((name, prelim, midterm, final, final_grade, eq_grade, desc))\n",
        "\n",
        "print(\"Student Grades:\")\n",
        "print(\"=\"*50)\n",
        "print(f\"{'Name':<15}{'PRELIM':<10}{'MIDTERM':<10}{'FINAL':<10}{'FINAL GRADE':<15}{'EQUIVALENT':<10}{'RATING'}\")\n",
        "print(\"-\"*50)\n",
        "for student in students:\n",
        "    name, prelim, midterm, final, final_grade, eq_grade, desc = student\n",
        "    print(f\"{name:<15}{prelim:<10.2f}{midterm:<10.2f}{final:<10.2f}{final_grade:<15.2f}{eq_grade:<10.2f}{desc}\")"
      ],
      "metadata": {
        "colab": {
          "base_uri": "https://localhost:8080/"
        },
        "id": "u3iB4JR_6L_A",
        "outputId": "bfae4cfa-dc99-4535-c442-0508c2c67cf6"
      },
      "execution_count": null,
      "outputs": [
        {
          "output_type": "stream",
          "name": "stdout",
          "text": [
            "Enter student 1 name: Angel Encarnacion\n",
            "Enter PRELIM grade: 89\n",
            "Enter MIDTERM grade: 90\n",
            "Enter FINAL grade: 91\n",
            "Enter student 2 name: Jhowanalyn Dumapat\n",
            "Enter PRELIM grade: 91\n",
            "Enter MIDTERM grade: 93\n",
            "Enter FINAL grade: 94\n",
            "Enter student 3 name: Jerylle Allic\n",
            "Enter PRELIM grade: 92\n",
            "Enter MIDTERM grade: 94\n",
            "Enter FINAL grade: 96\n",
            "Student Grades:\n",
            "==================================================\n",
            "Name           PRELIM    MIDTERM   FINAL     FINAL GRADE    EQUIVALENTRATING\n",
            "--------------------------------------------------\n",
            "Angel Encarnacion89.00     90.00     91.00     90.00          1.25      Superior\n",
            "Jhowanalyn Dumapat91.00     93.00     94.00     92.67          1.25      Superior\n",
            "Jerylle Allic  92.00     94.00     96.00     94.00          1.00      Excellent\n"
          ]
        }
      ]
    }
  ]
}