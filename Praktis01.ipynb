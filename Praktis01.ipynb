{
  "nbformat": 4,
  "nbformat_minor": 0,
  "metadata": {
    "colab": {
      "provenance": [],
      "authorship_tag": "ABX9TyO6BuUqru6LdSLUIXp+p1yd",
      "include_colab_link": true
    },
    "kernelspec": {
      "name": "python3",
      "display_name": "Python 3"
    },
    "language_info": {
      "name": "python"
    }
  },
  "cells": [
    {
      "cell_type": "markdown",
      "metadata": {
        "id": "view-in-github",
        "colab_type": "text"
      },
      "source": [
        "<a href=\"https://colab.research.google.com/github/Encarnacion-Angel/Encarnacion-Angel/blob/main/Praktis01.ipynb\" target=\"_parent\"><img src=\"https://colab.research.google.com/assets/colab-badge.svg\" alt=\"Open In Colab\"/></a>"
      ]
    },
    {
      "cell_type": "code",
      "source": [
        "value = 5\n",
        "print (value)"
      ],
      "metadata": {
        "colab": {
          "base_uri": "https://localhost:8080/"
        },
        "id": "KhixaI7J1bKN",
        "outputId": "0e5eaaa0-15e8-46dd-db23-72e5218488c6"
      },
      "execution_count": null,
      "outputs": [
        {
          "output_type": "stream",
          "name": "stdout",
          "text": [
            "5\n"
          ]
        }
      ]
    },
    {
      "cell_type": "code",
      "source": [
        "print(type(2+3j))\n",
        "print(type('Hello World'))\n",
        "print(type(\"Hello World\"))\n",
        "print(type(True))\n",
        "print(type(False))\n",
        "print(type([1, 2, 3, 4, 5]))\n",
        "print(type((1, 2, 3, 4, 5)))\n",
        "print(type({'name':'Angel'}))\n",
        "print(type(None))"
      ],
      "metadata": {
        "colab": {
          "base_uri": "https://localhost:8080/"
        },
        "id": "xAeg18Su0QYV",
        "outputId": "74e4a8be-c3e6-40ae-8b7c-e46cb351a555"
      },
      "execution_count": null,
      "outputs": [
        {
          "output_type": "stream",
          "name": "stdout",
          "text": [
            "<class 'complex'>\n",
            "<class 'str'>\n",
            "<class 'str'>\n",
            "<class 'bool'>\n",
            "<class 'bool'>\n",
            "<class 'list'>\n",
            "<class 'tuple'>\n",
            "<class 'dict'>\n",
            "<class 'NoneType'>\n"
          ]
        }
      ]
    },
    {
      "cell_type": "code",
      "source": [
        "print (value + value2)"
      ],
      "metadata": {
        "colab": {
          "base_uri": "https://localhost:8080/"
        },
        "id": "wlHpycCk1EHW",
        "outputId": "852a8db3-e47b-4088-a90a-fa64b8591486"
      },
      "execution_count": null,
      "outputs": [
        {
          "output_type": "stream",
          "name": "stdout",
          "text": [
            "11.0\n"
          ]
        }
      ]
    },
    {
      "cell_type": "code",
      "source": [
        "value, value2 = 5.0, 6"
      ],
      "metadata": {
        "id": "YzlN1-Km2L82"
      },
      "execution_count": null,
      "outputs": []
    },
    {
      "cell_type": "code",
      "source": [
        "value, value2 = -5,6.1"
      ],
      "metadata": {
        "id": "hniXJvwO2RQN"
      },
      "execution_count": null,
      "outputs": []
    },
    {
      "cell_type": "code",
      "source": [
        "value, value2 = \"Hello\", \"World\""
      ],
      "metadata": {
        "id": "7jjgRu4G2gac"
      },
      "execution_count": null,
      "outputs": []
    }
  ]
}