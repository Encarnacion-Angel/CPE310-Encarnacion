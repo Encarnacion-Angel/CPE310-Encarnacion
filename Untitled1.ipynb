{
  "nbformat": 4,
  "nbformat_minor": 0,
  "metadata": {
    "colab": {
      "provenance": [],
      "authorship_tag": "ABX9TyMdUFbH7EqrByhnbs9i7Xz5",
      "include_colab_link": true
    },
    "kernelspec": {
      "name": "python3",
      "display_name": "Python 3"
    },
    "language_info": {
      "name": "python"
    }
  },
  "cells": [
    {
      "cell_type": "markdown",
      "metadata": {
        "id": "view-in-github",
        "colab_type": "text"
      },
      "source": [
        "<a href=\"https://colab.research.google.com/github/Encarnacion-Angel/Encarnacion-Angel/blob/main/Untitled1.ipynb\" target=\"_parent\"><img src=\"https://colab.research.google.com/assets/colab-badge.svg\" alt=\"Open In Colab\"/></a>"
      ]
    },
    {
      "cell_type": "markdown",
      "source": [
        "2. Even/Odd Position Case Conversion\n",
        "\n",
        "   Write a program that reads a single word from the user. Then create a new version of this word such that letters in even positions (indexes) are converted to uppercase and letters in odd positions (indexes) are converted to lowercase. Finally, print out the transformed word."
      ],
      "metadata": {
        "id": "HltCMJfc822Z"
      }
    },
    {
      "cell_type": "code",
      "execution_count": null,
      "metadata": {
        "id": "TGTvzriW810M"
      },
      "outputs": [],
      "source": [
        "def even_odd_case_conversion(word):\n",
        "  transformed_word = \"\"\n",
        "  for i in range(len(word)):\n",
        "    if i % 2 == 0:\n",
        "      transformed_word += word[i].upper()\n",
        "    else:\n",
        "      transformed_word += word[i].lower()\n",
        "  return transformed_word\n",
        "\n",
        "word = input(\"Enter a word:\")\n",
        "print(\"Transformed word:\", even_odd_case_conversion(word))"
      ]
    },
    {
      "cell_type": "code",
      "source": [
        "def even_odd_case_conversion(word):\n",
        "  transformed_word = \"\"\n",
        "word = input(\"Enter a word:\")\n",
        "print(\"Transformed word:\", even_odd_case_conversion(word))"
      ],
      "metadata": {
        "colab": {
          "base_uri": "https://localhost:8080/"
        },
        "id": "XtzU1FOq-dOx",
        "outputId": "06cf9fb1-e203-482b-d7ce-922580036764"
      },
      "execution_count": null,
      "outputs": [
        {
          "output_type": "stream",
          "name": "stdout",
          "text": [
            "Enter a word:hi\n",
            "Transformed word: None\n"
          ]
        }
      ]
    },
    {
      "cell_type": "code",
      "source": [
        "wordSample = \"word\"\n",
        "\n",
        "wordSample[2] = wordSample[2].lower()\n",
        "print(wordSample)\n",
        "\n",
        "wordSample = wordSample.upper()\n",
        "print(wordSample)"
      ],
      "metadata": {
        "colab": {
          "base_uri": "https://localhost:8080/",
          "height": 216
        },
        "id": "MEBNuoVR9kUx",
        "outputId": "222b8046-3cba-491e-8c2f-e1feb13339d4"
      },
      "execution_count": null,
      "outputs": [
        {
          "output_type": "error",
          "ename": "TypeError",
          "evalue": "'str' object does not support item assignment",
          "traceback": [
            "\u001b[0;31m---------------------------------------------------------------------------\u001b[0m",
            "\u001b[0;31mTypeError\u001b[0m                                 Traceback (most recent call last)",
            "\u001b[0;32m<ipython-input-3-8a881e7ec5f6>\u001b[0m in \u001b[0;36m<cell line: 0>\u001b[0;34m()\u001b[0m\n\u001b[1;32m      1\u001b[0m \u001b[0mwordSample\u001b[0m \u001b[0;34m=\u001b[0m \u001b[0;34m\"word\"\u001b[0m\u001b[0;34m\u001b[0m\u001b[0;34m\u001b[0m\u001b[0m\n\u001b[1;32m      2\u001b[0m \u001b[0;34m\u001b[0m\u001b[0m\n\u001b[0;32m----> 3\u001b[0;31m \u001b[0mwordSample\u001b[0m\u001b[0;34m[\u001b[0m\u001b[0;36m2\u001b[0m\u001b[0;34m]\u001b[0m \u001b[0;34m=\u001b[0m \u001b[0mwordSample\u001b[0m\u001b[0;34m[\u001b[0m\u001b[0;36m2\u001b[0m\u001b[0;34m]\u001b[0m\u001b[0;34m.\u001b[0m\u001b[0mlower\u001b[0m\u001b[0;34m(\u001b[0m\u001b[0;34m)\u001b[0m\u001b[0;34m\u001b[0m\u001b[0;34m\u001b[0m\u001b[0m\n\u001b[0m\u001b[1;32m      4\u001b[0m \u001b[0mprint\u001b[0m\u001b[0;34m(\u001b[0m\u001b[0mwordSample\u001b[0m\u001b[0;34m)\u001b[0m\u001b[0;34m\u001b[0m\u001b[0;34m\u001b[0m\u001b[0m\n\u001b[1;32m      5\u001b[0m \u001b[0;34m\u001b[0m\u001b[0m\n",
            "\u001b[0;31mTypeError\u001b[0m: 'str' object does not support item assignment"
          ]
        }
      ]
    },
    {
      "cell_type": "code",
      "source": [],
      "metadata": {
        "id": "TXRsNgnU-TBy"
      },
      "execution_count": null,
      "outputs": []
    }
  ]
}