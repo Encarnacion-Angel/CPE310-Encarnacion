{
  "nbformat": 4,
  "nbformat_minor": 0,
  "metadata": {
    "colab": {
      "provenance": [],
      "authorship_tag": "ABX9TyP1GBhRoLXXYapJMGI29Dfq",
      "include_colab_link": true
    },
    "kernelspec": {
      "name": "python3",
      "display_name": "Python 3"
    },
    "language_info": {
      "name": "python"
    }
  },
  "cells": [
    {
      "cell_type": "markdown",
      "metadata": {
        "id": "view-in-github",
        "colab_type": "text"
      },
      "source": [
        "<a href=\"https://colab.research.google.com/github/Encarnacion-Angel/Encarnacion-Angel/blob/main/praktisAssessment_Task_1_2.ipynb\" target=\"_parent\"><img src=\"https://colab.research.google.com/assets/colab-badge.svg\" alt=\"Open In Colab\"/></a>"
      ]
    },
    {
      "cell_type": "markdown",
      "source": [
        "Exercise 1: Weather Monitoring System\n",
        "\n",
        "You are developing a weather monitoring system for a small town. The system needs to process temperature data in different units.\n",
        "\n",
        "    Task 1: Write a function celsius_to_fahrenheit(celsius) that converts a temperature reading from Celsius to Fahrenheit for the weather reports.\n",
        "    Task 2: Write a function fahrenheit_to_celsius(fahrenheit) that converts temperature data from the old system (which used Fahrenheit) to Celsius for consistency.\n",
        "    Task 3: Write a function celsius_to_kelvin(celsius) that converts the temperature to Kelvin for scientific analysis.\n",
        "    Task 4: Write a main program that simulates the input of temperature data from different sensors and converts it to the required units. The system should allow users (weather analysts) to input a temperature and select the conversion they need, displaying the converted temperature.\n",
        "\n"
      ],
      "metadata": {
        "id": "by8aNwu74a4d"
      }
    },
    {
      "cell_type": "code",
      "source": [
        "#Task 1:\n",
        "def celsius_to_fahrenheit(celsius):\n",
        "    return (celsius * 9/5) + 32\n",
        "#Task 2:\n",
        "def fahrenheit_to_celsius(fahrenheit):\n",
        "    return (fahrenheit - 32) * 5/9\n",
        "#Task 3:\n",
        "def celsius_to_kelvin(celsius):\n",
        "    return celsius + 273.15\n",
        "#Task 4:\n",
        "def main():\n",
        "    print(\"Weather Monitoring System\")\n",
        "    print(\"1: Celsius to Fahrenheit\")\n",
        "    print(\"2: Fahrenheit to Celsius\")\n",
        "    print(\"3: Celsius to Kelvin\")\n",
        "\n",
        "    choice = int(input(\"Select conversion (1/2/3): \"))\n",
        "    temp = float(input(\"Enter temperature: \"))\n",
        "\n",
        "    if choice == 1:\n",
        "        print(f\"Converted Temperature: {celsius_to_fahrenheit(temp)} °F\")\n",
        "    elif choice == 2:\n",
        "        print(f\"Converted Temperature: {fahrenheit_to_celsius(temp)} °C\")\n",
        "    elif choice == 3:\n",
        "        print(f\"Converted Temperature: {celsius_to_kelvin(temp)} K\")\n",
        "    else:\n",
        "        print(\"Invalid choice.\")\n",
        "\n",
        "if __name__ == \"__main__\":\n",
        "    main()"
      ],
      "metadata": {
        "id": "dNUHFKs36kGd",
        "colab": {
          "base_uri": "https://localhost:8080/"
        },
        "outputId": "782c7fc8-20db-4df3-e5aa-64f52f58a891"
      },
      "execution_count": null,
      "outputs": [
        {
          "output_type": "stream",
          "name": "stdout",
          "text": [
            "Weather Monitoring System\n",
            "1: Celsius to Fahrenheit\n",
            "2: Fahrenheit to Celsius\n",
            "3: Celsius to Kelvin\n"
          ]
        }
      ]
    },
    {
      "cell_type": "markdown",
      "source": [
        "Exercise 2: Text-Based Game Development\n",
        "\n",
        "You are part of a team developing a text-based adventure game. Players need to interact with the game by entering commands that are strings.\n",
        "\n",
        "    Task 1: Write a function reverse_command(command) that reverses the player's input command for a hidden puzzle in the game.\n",
        "    Task 2: Write a function is_palindrome(command) that checks if a command is a palindrome, which unlocks a secret door in the game.\n",
        "    Task 3: Write a function count_vowels(command) that counts the vowels in a player's command, which determines the strength of a magical spell they cast.\n",
        "    Task 4: Create a main program that simulates a player entering a command. Based on the command, the program should call the appropriate functions to check for puzzles, unlock secrets, or cast spells, displaying the outcomes.\n"
      ],
      "metadata": {
        "id": "EI1FtkqI4cZV"
      }
    },
    {
      "cell_type": "code",
      "source": [
        "#Task 1:\n",
        "def reverse_command(command):\n",
        "    return command[::-1]\n",
        "#Task 2:\n",
        "def is_palindrome(command):\n",
        "    return command == command[::-1]\n",
        "#Task 3\n",
        "def count_vowels(command):\n",
        "    vowels = \"aeiouAEIOU\"\n",
        "    return sum(1 for char in command if char in vowels)\n",
        "#Task 4:\n",
        "def main():\n",
        "    print(\"Text-Based Game Command Processor\")\n",
        "    command = input(\"Enter a command: \")\n",
        "\n",
        "    print(f\"Reversed Command:{reverse_command(command)}\")\n",
        "\n",
        "    print(f\"Secret Door Unlocked!\")\n",
        "\n",
        "    vowel_count = count_vowels(command)\n",
        "    print(f\"Magical Spell Strength (Vowel Count): {vowel_count}\")\n",
        "\n",
        "if __name__ == \"__main__\":\n",
        "    main()"
      ],
      "metadata": {
        "id": "HSzMT4e-Co1U"
      },
      "execution_count": null,
      "outputs": []
    },
    {
      "cell_type": "markdown",
      "source": [
        "Exercise 3: Personal Finance Manager\n",
        "\n",
        "You are building a simple personal finance manager to help users keep track of their expenses and manage their budgets.\n",
        "\n",
        "    Task 1: Write a function add_income(income, total) that adds a new income amount to the total balance.\n",
        "    Task 2: Write a function subtract_expense(expense, total) that subtracts an expense amount from the total balance.\n",
        "    Task 3: Write a function calculate_balance(income, expenses) that calculates the remaining balance after accounting for all expenses.\n",
        "    Task 4: Create a main program that allows users to input their income and expenses, and then use the functions to display their remaining balance. The program should also warn the user if their expenses exceed their income."
      ],
      "metadata": {
        "id": "3K8jlu6K4elT"
      }
    },
    {
      "cell_type": "code",
      "source": [
        "def add_income(income, total):\n",
        "    return total + income\n",
        "\n",
        "def subtract_expense(expense, total):\n",
        "    return total - expense\n",
        "\n",
        "def calculate_balance(income, expenses):\n",
        "    return income - expenses\n",
        "\n",
        "def main():\n",
        "    print(\"Personal Finance Manager\")\n",
        "\n",
        "    total_income = float(input(\"Enter your total income: \"))\n",
        "    total_expenses = float(input(\"Enter your total expenses: \"))\n",
        "\n",
        "    balance = calculate_balance(total_income, total_expenses)\n",
        "\n",
        "    print(f\"Remaining Balance: ${balance:.2f}\")\n",
        "\n",
        "    if balance < 0:\n",
        "        print(\"Warning: Your expenses exceed your income!\")\n",
        "\n",
        "if __name__ == \"__main__\":\n",
        "    main()"
      ],
      "metadata": {
        "id": "ZG_pK1XHCx86"
      },
      "execution_count": null,
      "outputs": []
    },
    {
      "cell_type": "markdown",
      "source": [
        "Exercise 4: Event Planning System\n",
        "\n",
        "Scenario: You are helping an event planner organize a series of events. The planner needs to manage guest lists and schedules effectively.\n",
        "\n",
        "    Task 1: Write a function factorial(n) that calculates the factorial of the number of guests to determine the possible seating arrangements. Use recursion to implement this function.\n",
        "    Task 2: Write a function fibonacci(n) that determines the sequence of events based on their importance (using the Fibonacci sequence to assign priorities). Use recursion to implement this function.\n",
        "    Task 3: Write a function total_guests(events) that sums up the total number of guests across multiple events.\n",
        "    Task 4: Create a main program that allows the event planner to input the number of guests for each event, and then calculates the possible seating arrangements and priorities of the events using the above functions. Display the results to help with planning.\n"
      ],
      "metadata": {
        "id": "TR1qqMHx-ngT"
      }
    },
    {
      "cell_type": "markdown",
      "source": [
        "Exercise 5: Inventory Management System\n",
        "\n",
        "Scenario: You are tasked with developing an inventory management system for a small retail store. The store needs to keep track of products, their quantities, and pricing.\n",
        "\n",
        "    Task 1: Write a function find_max_price(products) that finds the most expensive product in the inventory.\n",
        "    Task 2: Write a function find_min_stock(products) that identifies the product with the lowest stock, so the store can reorder it.\n",
        "    Task 3: Write a function average_price(products) that calculates the average price of all products to help with pricing strategies.\n",
        "    Task 4: Write a function remove_out_of_stock(products) that removes products with zero stock from the inventory list.\n",
        "    Task 5: Create a main program that simulates the store’s inventory management process. Allow the user (store manager) to input product details, and then use the functions to analyze and manage the inventory, providing insights such as the most expensive item, average pricing, and stock status.\n",
        "\n"
      ],
      "metadata": {
        "id": "QDeVnrA8-qbr"
      }
    }
  ]
}