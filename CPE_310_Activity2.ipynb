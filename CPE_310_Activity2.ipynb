{
  "nbformat": 4,
  "nbformat_minor": 0,
  "metadata": {
    "colab": {
      "provenance": [],
      "authorship_tag": "ABX9TyMCzY+Zpwu2WfRLtEimhcbx",
      "include_colab_link": true
    },
    "kernelspec": {
      "name": "python3",
      "display_name": "Python 3"
    },
    "language_info": {
      "name": "python"
    }
  },
  "cells": [
    {
      "cell_type": "markdown",
      "metadata": {
        "id": "view-in-github",
        "colab_type": "text"
      },
      "source": [
        "<a href=\"https://colab.research.google.com/github/Encarnacion-Angel/Encarnacion-Angel/blob/main/CPE_310_Activity2.ipynb\" target=\"_parent\"><img src=\"https://colab.research.google.com/assets/colab-badge.svg\" alt=\"Open In Colab\"/></a>"
      ]
    },
    {
      "cell_type": "code",
      "execution_count": null,
      "metadata": {
        "colab": {
          "base_uri": "https://localhost:8080/"
        },
        "id": "BZ6Jy_PNcJ3O",
        "outputId": "bc5149f5-d440-4a95-a664-bfdee2437bda"
      },
      "outputs": [
        {
          "output_type": "stream",
          "name": "stdout",
          "text": [
            "5\n"
          ]
        }
      ],
      "source": [
        "value = 5\n",
        "print (value)"
      ]
    },
    {
      "cell_type": "code",
      "source": [
        "type(value)"
      ],
      "metadata": {
        "colab": {
          "base_uri": "https://localhost:8080/"
        },
        "id": "BO5GjJatc2w4",
        "outputId": "3ee00725-58fc-4746-942b-4a4569dae647"
      },
      "execution_count": null,
      "outputs": [
        {
          "output_type": "execute_result",
          "data": {
            "text/plain": [
              "int"
            ]
          },
          "metadata": {},
          "execution_count": 2
        }
      ]
    },
    {
      "cell_type": "code",
      "source": [
        "value = 5.0\n",
        "type(value)"
      ],
      "metadata": {
        "colab": {
          "base_uri": "https://localhost:8080/"
        },
        "id": "2krSifFddTz_",
        "outputId": "29ffee3d-283d-4a89-ac5b-9ee6e1b9cf24"
      },
      "execution_count": null,
      "outputs": [
        {
          "output_type": "execute_result",
          "data": {
            "text/plain": [
              "float"
            ]
          },
          "metadata": {},
          "execution_count": 3
        }
      ]
    },
    {
      "cell_type": "code",
      "source": [
        "print(type(2+3j))\n",
        "print(type('Hello World'))\n",
        "print(type(\"Hello World\"))\n",
        "\n",
        "# Boolean means true or false / 1 or 0\n",
        "print(type(True))\n",
        "print(type(False))\n",
        "\n",
        "# Iterables -> Iterate inside\n",
        "print(type([1, 2, 3, 4, 5])) # lists can be changed\n",
        "print(type((1, 2, 3, 4, 5))) # tuples cannot be changed\n",
        "print(type({'name':'Roman Richard'}))\n",
        "print(type(None))\n",
        "\n",
        "value = 5\n",
        "value2 = -6"
      ],
      "metadata": {
        "colab": {
          "base_uri": "https://localhost:8080/"
        },
        "id": "0rtdYNYydXkt",
        "outputId": "f1bc1643-0f26-44f8-b189-079219b07ec0"
      },
      "execution_count": null,
      "outputs": [
        {
          "output_type": "stream",
          "name": "stdout",
          "text": [
            "<class 'complex'>\n",
            "<class 'str'>\n",
            "<class 'str'>\n",
            "<class 'bool'>\n",
            "<class 'bool'>\n",
            "<class 'list'>\n",
            "<class 'tuple'>\n",
            "<class 'dict'>\n",
            "<class 'NoneType'>\n"
          ]
        }
      ]
    },
    {
      "cell_type": "code",
      "source": [
        "print(value+value2)"
      ],
      "metadata": {
        "colab": {
          "base_uri": "https://localhost:8080/"
        },
        "id": "7xBrdy3jdimd",
        "outputId": "8e821e08-5362-4521-f859-ec3b060c2269"
      },
      "execution_count": null,
      "outputs": [
        {
          "output_type": "stream",
          "name": "stdout",
          "text": [
            "-1\n"
          ]
        }
      ]
    },
    {
      "cell_type": "code",
      "source": [
        "value, value2 = 5.0, 6\n",
        "print(value+value2)"
      ],
      "metadata": {
        "id": "noQHP5EudnuO"
      },
      "execution_count": null,
      "outputs": []
    },
    {
      "cell_type": "code",
      "source": [
        "value, value2 = -5, 6.1\n",
        "print(value+value2)"
      ],
      "metadata": {
        "colab": {
          "base_uri": "https://localhost:8080/"
        },
        "id": "6WsLjSMJdvU9",
        "outputId": "902ce471-ad58-42c8-ce29-d328c19c49c3"
      },
      "execution_count": null,
      "outputs": [
        {
          "output_type": "stream",
          "name": "stdout",
          "text": [
            "1.0999999999999996\n"
          ]
        }
      ]
    },
    {
      "cell_type": "code",
      "source": [
        "value, value2 = \"Hello\", 'world'\n",
        "print(value + \" \" + value2)"
      ],
      "metadata": {
        "colab": {
          "base_uri": "https://localhost:8080/"
        },
        "id": "e6bMHp-kdyQt",
        "outputId": "7285f6d4-8d8a-4a32-e6e0-af2e0bb68963"
      },
      "execution_count": null,
      "outputs": [
        {
          "output_type": "stream",
          "name": "stdout",
          "text": [
            "Hello world\n"
          ]
        }
      ]
    },
    {
      "cell_type": "code",
      "source": [
        "value, value2 = [1, 2, 3], [4, 5, 6]\n",
        "print(value+value2)"
      ],
      "metadata": {
        "colab": {
          "base_uri": "https://localhost:8080/"
        },
        "id": "lPM_iuMCdxyl",
        "outputId": "9088f138-0ff8-4346-b433-9f887b58c181"
      },
      "execution_count": null,
      "outputs": [
        {
          "output_type": "stream",
          "name": "stdout",
          "text": [
            "[1, 2, 3, 4, 5, 6]\n"
          ]
        }
      ]
    },
    {
      "cell_type": "code",
      "source": [
        "value, value2 = (1, 2, 3), (4, 5, 6)\n",
        "print(value+value2)"
      ],
      "metadata": {
        "colab": {
          "base_uri": "https://localhost:8080/"
        },
        "id": "4rxml7eLeAHn",
        "outputId": "c2f19eab-739b-4e5a-c8d3-a1e895103fd5"
      },
      "execution_count": null,
      "outputs": [
        {
          "output_type": "stream",
          "name": "stdout",
          "text": [
            "(1, 2, 3, 4, 5, 6)\n"
          ]
        }
      ]
    },
    {
      "cell_type": "code",
      "source": [
        "value, value2 = {\"name\":\"Angel Encarnacion\"}, {\"age\":\"19\"}"
      ],
      "metadata": {
        "id": "Uuqcwcn-f7As"
      },
      "execution_count": null,
      "outputs": []
    },
    {
      "cell_type": "code",
      "source": [
        "value, value2 = 30, 4\n",
        "\n",
        "print(value*value2)\n",
        "print(value2**2)\n",
        "print(value2**3)\n",
        "print(value * value2 + value2**2 + 1)\n",
        "print(value/value2)\n",
        "print(value%value2)"
      ],
      "metadata": {
        "colab": {
          "base_uri": "https://localhost:8080/"
        },
        "id": "ZvoMK9_mgLNc",
        "outputId": "18fd032c-3da7-48f2-b54c-c02fdf853a4c"
      },
      "execution_count": null,
      "outputs": [
        {
          "output_type": "stream",
          "name": "stdout",
          "text": [
            "120\n",
            "16\n",
            "64\n",
            "137\n",
            "7.5\n",
            "2\n"
          ]
        }
      ]
    },
    {
      "cell_type": "code",
      "source": [
        "print(input(\"What's your name?\"))"
      ],
      "metadata": {
        "colab": {
          "base_uri": "https://localhost:8080/"
        },
        "id": "vokugkuCgThz",
        "outputId": "04e4a1b7-6d46-4af6-ea9f-50aed4803f7e"
      },
      "execution_count": null,
      "outputs": [
        {
          "output_type": "stream",
          "name": "stdout",
          "text": [
            "What's your name?Angel Encarnacion\n",
            "Angel Encarnacion\n"
          ]
        }
      ]
    },
    {
      "cell_type": "code",
      "source": [
        "name = input(\"Enter your name: \")\n",
        "weight = float(input(\"Enter your weight(kg): \"))\n",
        "height = float(input(\"Enter your height(m): \"))\n",
        "\n",
        "bmi = weight / height**2\n",
        "\n",
        "# Print all"
      ],
      "metadata": {
        "colab": {
          "base_uri": "https://localhost:8080/"
        },
        "id": "74qmTmEwgZaT",
        "outputId": "f1280438-657c-4c00-b216-8dd4b9daf14d"
      },
      "execution_count": null,
      "outputs": [
        {
          "name": "stdout",
          "output_type": "stream",
          "text": [
            "Enter your name: Angel Encarnacion\n",
            "Enter your weight(kg): 45\n",
            "Enter your height(m): 1.47\n"
          ]
        }
      ]
    },
    {
      "cell_type": "markdown",
      "source": [
        "Supplementary Activity:\n",
        "1. Write the Python equivalent code of the following C code:\n",
        "int main(){\n",
        "float base = 0, height = 0, area = 0;\n",
        "printf(“Enter the base of the triangle: “);\n",
        "scanf(“%f”, &base);\n",
        "printf(“Enter the height of the triangle: “);\n",
        "scanf(“%f”, &height); area = (1/2)baseheight;\n",
        "print(“The area of the triangle is %f”, area);\n",
        "}"
      ],
      "metadata": {
        "id": "RCDwQXPRh7ta"
      }
    },
    {
      "cell_type": "code",
      "source": [
        "int main(){\n",
        "    float base = 0, height = 0, area = 0;\n",
        "    printf(\"Enter base of the triangle:\");\n",
        "    scanf(\"%f\", &base)\n",
        "    printf(\"enter height of the triangle:\");\n",
        "    scanf(\"%f\", &height)\n",
        "    area = (1/2)*base*height;\n",
        "    printf (\"The area of the triangle is %f\", area);\n",
        "}"
      ],
      "metadata": {
        "id": "tO5e7e-DhnMb"
      },
      "execution_count": null,
      "outputs": []
    },
    {
      "cell_type": "code",
      "source": [
        "base = float (input(\"Enter base of the triangle:\"))\n",
        "height = float (input(\"Enter height of the triangle:\"))\n",
        "area = float (input(\"The area of the triangle is:\"))"
      ],
      "metadata": {
        "colab": {
          "base_uri": "https://localhost:8080/"
        },
        "id": "JL-TlkGCipHB",
        "outputId": "19209368-9faf-4f91-9ee4-76a5c02b8b0d"
      },
      "execution_count": null,
      "outputs": [
        {
          "name": "stdout",
          "output_type": "stream",
          "text": [
            "Enter base of the triangle:25\n",
            "Enter height of the triangle:27\n",
            "The area of the triangle is:337.5\n"
          ]
        }
      ]
    },
    {
      "cell_type": "code",
      "source": [
        "2. Write a program that would convert Celsius to Fahrenheit given the formula: F = (C × 9/5) + 32\n",
        "Example of conversion:\n",
        "0°C = 32 °F\n",
        "-20°C = -4 °F"
      ],
      "metadata": {
        "id": "NNL6fOAXjG0T"
      },
      "execution_count": null,
      "outputs": []
    },
    {
      "cell_type": "code",
      "source": [
        "Celcius= float(input(\"Enter temperature in celsius:\"))\n",
        "Fahrenheit= float((Celcius*9/5+32))\n",
        "\n",
        "print(f\"{Celcius}C is equal to {Fahrenheit}F\")"
      ],
      "metadata": {
        "id": "2f_nf8mojIcX",
        "colab": {
          "base_uri": "https://localhost:8080/"
        },
        "outputId": "9d0b98d7-6cf1-4dc3-d141-201c3c4bbb19"
      },
      "execution_count": null,
      "outputs": [
        {
          "output_type": "stream",
          "name": "stdout",
          "text": [
            "Enter temperature in celsius:44\n",
            "44.0C is equal to 111.2F\n"
          ]
        }
      ]
    },
    {
      "cell_type": "code",
      "source": [
        "3. Write a program that can determine the distance between two points given the coordinates using the\n",
        "formula:\n",
        "𝒅 = √(𝒙𝟐 − 𝒙𝟏)𝟐 + (𝒚𝟐 − 𝒚𝟏)𝟐"
      ],
      "metadata": {
        "id": "AMgdvvxpjLP6"
      },
      "execution_count": null,
      "outputs": []
    },
    {
      "cell_type": "code",
      "source": [
        "import math\n",
        "x1, y1 = 2, 2\n",
        "x2, y2 = -3, 3\n",
        "\n",
        "distance = ((x2-x1))**2+((y2-y1))**2\n",
        "print(f\"The distance between two points given is {distance: .9f}\")"
      ],
      "metadata": {
        "id": "PEcLVS1cjOgS",
        "colab": {
          "base_uri": "https://localhost:8080/"
        },
        "outputId": "00bdc439-990a-4898-cb61-1314db834d58"
      },
      "execution_count": null,
      "outputs": [
        {
          "output_type": "stream",
          "name": "stdout",
          "text": [
            "The distance between two points given is  26.000000000\n"
          ]
        }
      ]
    },
    {
      "cell_type": "markdown",
      "source": [
        "Questions:\n",
        "1. Give one major difference in syntax that Python has with other languages such as C?\n",
        "\n",
        "Instead of using braces or keywords to create code blocks, Python employs indentation. The block structure is determined by the indentation level. C, on the other hand, does not require indentation and instead uses braces for structure, which might result in less aesthetically pleasing code.\n",
        "\n",
        "2. How does variable assignment differ in Python compared with other languages such as C?\n",
        "\n",
        "C offers more control over low-level operations but necessitates explicit type declarations and manual memory handling, whereas Python's variable assignment is more dynamic and flexible but abstracts away memory management.\n",
        "\n",
        "3. Try assigning variable names that start with numbers, and special characters. Is the assigning of variables that start with numbers accepted by Python? For Special Characters? Is there an exception for variables\n",
        "special characters?\n",
        "\n",
        "Variable names in Python cannot begin with a number or special characters where it can only begin with an underscore or a letter. containing underscores, digits, and letters. Additionally, the names are case-sensitive; for example, var and Var are not the same.\n",
        "\n",
        "4. Do the assignment operators (+, -, *, /, %, **) work for all data types? Why or Why not?\n",
        "\n",
        "Not all data types are compatible with Python's assignment operations. The data types involved and whether or not certain operations are defined for those kinds determine their usefulness. They behave consistently across numeric data types since they are made for arithmetic operations.\n",
        "\n",
        "5. How does the * operator differ from the ** operator?\n",
        "\n",
        "Depending on the situation, the (*) operator can be used for unpacking iterables, repeating sequences, and multiplying. In contrast, the (**) operator is used for unpacking dictionaries into keyword arguments and exponentiation.\n",
        "\n",
        "7. Conclusion\n",
        "\n",
        "Python fosters comprehension, adaptability, and dynamic behavior while upholding precise structures and conventions. It is both user-friendly for novices and robust for more complex programming since its operators and syntax are made for a variety of applications."
      ],
      "metadata": {
        "id": "09ntu8ZnkEVp"
      }
    }
  ]
}